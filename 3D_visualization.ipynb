{
 "cells": [
  {
   "cell_type": "markdown",
   "metadata": {},
   "source": [
    "# 3D Movement\n",
    "\n",
    "A visualization of a 3D movement using the P and the PD controller is shown below"
   ]
  },
  {
   "cell_type": "code",
   "execution_count": 2,
   "metadata": {},
   "outputs": [
    {
     "data": {
      "text/plain": [
       "'temp-plot.html'"
      ]
     },
     "execution_count": 2,
     "metadata": {},
     "output_type": "execute_result"
    }
   ],
   "source": [
    "import numpy as np\n",
    "import pandas as pd\n",
    "import plotly\n",
    "import plotly.offline as py\n",
    "import plotly.graph_objects as go\n",
    "\n",
    "# Read the CSV \n",
    "file = pd.read_csv('/home/ttsitos/RA-L/3D_movements/3D_movement.csv')\n",
    "\n",
    "# Parse the trajectory and the robot points\n",
    "input_x = [float(i) for i in file['Trajectory Points'] if not np.isnan(float(i))]\n",
    "input_y = [float(i) for i in file['Unnamed: 1'] if not np.isnan(float(i))]\n",
    "input_z = [float(i) for i in file['Unnamed: 2'] if not np.isnan(float(i))]\n",
    "del input_x[0], input_y[0], input_z[0]\n",
    "\n",
    "ee_x_p = [float(i) for i in file['P Controller'] if not np.isnan(float(i))]\n",
    "ee_y_p = [float(i) for i in file['Unnamed: 5'] if not np.isnan(float(i))]\n",
    "ee_z_p = [float(i) for i in file['Unnamed: 6'] if not np.isnan(float(i))]\n",
    "del ee_x_p[0], ee_y_p[0], ee_z_p[0]\n",
    "\n",
    "ee_x_pd = [float(i) for i in file['PD Controller'] if not np.isnan(float(i))]\n",
    "ee_y_pd = [float(i) for i in file['Unnamed: 9'] if not np.isnan(float(i))]\n",
    "ee_z_pd = [float(i) for i in file['Unnamed: 10'] if not np.isnan(float(i))]\n",
    "del ee_x_pd[0], ee_y_pd[0], ee_z_pd[0]\n",
    "\n",
    "# Visualization\n",
    "fig = go.Figure()\n",
    "fig.add_trace(go.Scatter3d(x=input_x, y=input_y, z=input_z, mode='markers', marker=dict(size=2), name='Trajectory Points'))\n",
    "fig.add_trace(go.Scatter3d(x=ee_x_p, y=ee_y_p, z=ee_z_p, mode='markers', marker=dict(size=1), name='P Controller'))\n",
    "fig.add_trace(go.Scatter3d(x=ee_x_pd, y=ee_y_pd, z=ee_z_pd, mode='markers', marker=dict(size=1), name='PD Controller'))\n",
    "fig.update_layout(scene=dict(xaxis=dict(title='x(m)'), yaxis=dict(title='y(m)'), zaxis=dict(title='z(m)')))\n",
    "\n",
    "py.plot(fig)"
   ]
  }
 ],
 "metadata": {
  "kernelspec": {
   "display_name": "Python 3",
   "language": "python",
   "name": "python3"
  },
  "language_info": {
   "codemirror_mode": {
    "name": "ipython",
    "version": 3
   },
   "file_extension": ".py",
   "mimetype": "text/x-python",
   "name": "python",
   "nbconvert_exporter": "python",
   "pygments_lexer": "ipython3",
   "version": "3.6.9"
  }
 },
 "nbformat": 4,
 "nbformat_minor": 2
}
